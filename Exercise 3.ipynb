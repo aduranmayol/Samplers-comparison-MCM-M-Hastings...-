{
 "cells": [
  {
   "cell_type": "code",
   "execution_count": 1,
   "id": "6bfc161b-3659-447c-af93-9d7926e25488",
   "metadata": {},
   "outputs": [
    {
     "ename": "ModuleNotFoundError",
     "evalue": "No module named 'PTMCMCSampler'",
     "output_type": "error",
     "traceback": [
      "\u001b[0;31m---------------------------------------------------------------------------\u001b[0m",
      "\u001b[0;31mModuleNotFoundError\u001b[0m                       Traceback (most recent call last)",
      "Cell \u001b[0;32mIn[1], line 9\u001b[0m\n\u001b[1;32m      7\u001b[0m \u001b[38;5;28;01mimport\u001b[39;00m \u001b[38;5;21;01mtime\u001b[39;00m \u001b[38;5;66;03m# For recording the sampling time\u001b[39;00m\n\u001b[1;32m      8\u001b[0m \u001b[38;5;28;01mimport\u001b[39;00m \u001b[38;5;21;01mtqdm\u001b[39;00m \u001b[38;5;66;03m# For progress bars\u001b[39;00m\n\u001b[0;32m----> 9\u001b[0m \u001b[38;5;28;01mfrom\u001b[39;00m \u001b[38;5;21;01mPTMCMCSampler\u001b[39;00m \u001b[38;5;28;01mimport\u001b[39;00m PTMCMCSampler \u001b[38;5;66;03m# For the parallel tempered MCMC\u001b[39;00m\n\u001b[1;32m     10\u001b[0m \u001b[38;5;28;01mfrom\u001b[39;00m \u001b[38;5;21;01mpyhmc\u001b[39;00m \u001b[38;5;28;01mimport\u001b[39;00m hmc \u001b[38;5;66;03m# For the Hamiltonian Monte Carlo\u001b[39;00m\n\u001b[1;32m     11\u001b[0m \u001b[38;5;66;03m# Genereal plots preamble\u001b[39;00m\n",
      "\u001b[0;31mModuleNotFoundError\u001b[0m: No module named 'PTMCMCSampler'"
     ]
    }
   ],
   "source": [
    "import corner # For making corner plots\n",
    "import emcee # For the emcee sampler\n",
    "import glob # In order to read from directories\n",
    "import matplotlib.pyplot as plt # For plotting\n",
    "import numpy as np # numerics\n",
    "import scipy.stats as st # For the log_probs\n",
    "import time # For recording the sampling time\n",
    "import tqdm # For progress bars\n",
    "from PTMCMCSampler import PTMCMCSampler # For the parallel tempered MCMC\n",
    "from pyhmc import hmc # For the Hamiltonian Monte Carlo\n",
    "# Genereal plots preamble\n",
    "plt.rcParams.update({\"text.usetex\": True,\n",
    "\"font.family\": \"serif\",\n",
    "\"font.serif\": \"DejaVu Serif\",\n",
    "\"mathtext.fontset\": \"cm\"})\n",
    "\n",
    "plt.style.use('tableau-colorblind10')\n",
    "plt.rcParams.update({'font.size': 12})"
   ]
  },
  {
   "cell_type": "code",
   "execution_count": null,
   "id": "1df350e5-c90d-4595-aedf-2741f0cb8fa4",
   "metadata": {},
   "outputs": [],
   "source": [
    "Setting a global random seed\n",
    "seed = 1701\n",
    "np.random.seed(seed)\n",
    "rng = np.random.RandomState(seed)"
   ]
  },
  {
   "cell_type": "code",
   "execution_count": null,
   "id": "53c6b5a6-651e-4e60-91b8-d9cf51466ef7",
   "metadata": {},
   "outputs": [],
   "source": []
  }
 ],
 "metadata": {
  "kernelspec": {
   "display_name": "Python 3 (ipykernel)",
   "language": "python",
   "name": "python3"
  },
  "language_info": {
   "codemirror_mode": {
    "name": "ipython",
    "version": 3
   },
   "file_extension": ".py",
   "mimetype": "text/x-python",
   "name": "python",
   "nbconvert_exporter": "python",
   "pygments_lexer": "ipython3",
   "version": "3.8.0"
  }
 },
 "nbformat": 4,
 "nbformat_minor": 5
}
